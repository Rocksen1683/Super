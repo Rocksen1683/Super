{
 "cells": [
  {
   "cell_type": "markdown",
   "id": "1a64a37d",
   "metadata": {},
   "source": [
    "## Super Data Engineering Take Home Assessment (Ekanshh Praveen)"
   ]
  },
  {
   "cell_type": "markdown",
   "id": "04f61d7e",
   "metadata": {},
   "source": [
    "### 1 - Preparing the dataframe"
   ]
  },
  {
   "cell_type": "code",
   "execution_count": 20,
   "id": "4102a007",
   "metadata": {},
   "outputs": [],
   "source": [
    "import pandas as pd\n",
    "import numpy as np"
   ]
  },
  {
   "cell_type": "code",
   "execution_count": 21,
   "id": "f562d2c6",
   "metadata": {},
   "outputs": [
    {
     "name": "stdout",
     "output_type": "stream",
     "text": [
      "['Airline Code;DelayTimes;FlightCodes;To_From', 'Air Canada (!);[21, 40];20015.0;WAterLoo_NEWYork', '<Air France> (12);[];;Montreal_TORONTO', '(Porter Airways. );[60, 22, 87];20035.0;CALgary_Ottawa', '12. Air France;[78, 66];;Ottawa_VANcouvER', '\"\"\".\\\\.Lufthansa.\\\\.\"\"\";[12, 33];20055.0;london_MONTreal', '']\n"
     ]
    }
   ],
   "source": [
    "data = 'Airline Code;DelayTimes;FlightCodes;To_From\\nAir Canada (!);[21, 40];20015.0;WAterLoo_NEWYork\\n<Air France> (12);[];;Montreal_TORONTO\\n(Porter Airways. );[60, 22, 87];20035.0;CALgary_Ottawa\\n12. Air France;[78, 66];;Ottawa_VANcouvER\\n\"\"\".\\\\.Lufthansa.\\\\.\"\"\";[12, 33];20055.0;london_MONTreal\\n'\n",
    "\n",
    "# First, we need to split our data that is seperated by \\n to individual rows\n",
    "rows = data.split('\\n')\n",
    "print(rows)"
   ]
  },
  {
   "cell_type": "code",
   "execution_count": 69,
   "id": "fe782f16",
   "metadata": {},
   "outputs": [
    {
     "name": "stdout",
     "output_type": "stream",
     "text": [
      "Column Names:  ['Airline Code', 'DelayTimes', 'FlightCodes', 'To_From']\n",
      "Rows:  [['Air Canada (!)', '[21, 40]', '20015.0', 'WAterLoo_NEWYork'], ['<Air France> (12)', '[]', nan, 'Montreal_TORONTO'], ['(Porter Airways. )', '[60, 22, 87]', '20035.0', 'CALgary_Ottawa'], ['12. Air France', '[78, 66]', nan, 'Ottawa_VANcouvER'], ['\"\"\".\\\\.Lufthansa.\\\\.\"\"\"', '[12, 33]', '20055.0', 'london_MONTreal']]\n"
     ]
    }
   ],
   "source": [
    "# As we want to further split the rows into individual cells, we would have to split the row too\n",
    "cells = []\n",
    "for i in range(len(rows)):\n",
    "    cells.append(rows[i].split(\";\"))\n",
    "\n",
    "# We would also want to pop the first element of cells to get rid of column names and store them in a seperate list\n",
    "column_names = cells.pop(0)\n",
    "cells.pop(len(cells)-1)\n",
    "\n",
    "#Adding nan for null values\n",
    "for i in range(len(cells)-1):\n",
    "    for j in range(len(cells[i])):\n",
    "        if cells[i][j] == '':\n",
    "            cells[i][j] = np.nan\n",
    "            \n",
    "print(\"Column Names: \", column_names)\n",
    "print(\"Rows: \", cells)"
   ]
  },
  {
   "cell_type": "code",
   "execution_count": 70,
   "id": "e8db30d3",
   "metadata": {},
   "outputs": [
    {
     "data": {
      "text/html": [
       "<div>\n",
       "<style scoped>\n",
       "    .dataframe tbody tr th:only-of-type {\n",
       "        vertical-align: middle;\n",
       "    }\n",
       "\n",
       "    .dataframe tbody tr th {\n",
       "        vertical-align: top;\n",
       "    }\n",
       "\n",
       "    .dataframe thead th {\n",
       "        text-align: right;\n",
       "    }\n",
       "</style>\n",
       "<table border=\"1\" class=\"dataframe\">\n",
       "  <thead>\n",
       "    <tr style=\"text-align: right;\">\n",
       "      <th></th>\n",
       "      <th>Airline Code</th>\n",
       "      <th>DelayTimes</th>\n",
       "      <th>FlightCodes</th>\n",
       "      <th>To_From</th>\n",
       "    </tr>\n",
       "  </thead>\n",
       "  <tbody>\n",
       "    <tr>\n",
       "      <th>0</th>\n",
       "      <td>Air Canada (!)</td>\n",
       "      <td>[21, 40]</td>\n",
       "      <td>20015.0</td>\n",
       "      <td>WAterLoo_NEWYork</td>\n",
       "    </tr>\n",
       "    <tr>\n",
       "      <th>1</th>\n",
       "      <td>&lt;Air France&gt; (12)</td>\n",
       "      <td>[]</td>\n",
       "      <td>NaN</td>\n",
       "      <td>Montreal_TORONTO</td>\n",
       "    </tr>\n",
       "    <tr>\n",
       "      <th>2</th>\n",
       "      <td>(Porter Airways. )</td>\n",
       "      <td>[60, 22, 87]</td>\n",
       "      <td>20035.0</td>\n",
       "      <td>CALgary_Ottawa</td>\n",
       "    </tr>\n",
       "    <tr>\n",
       "      <th>3</th>\n",
       "      <td>12. Air France</td>\n",
       "      <td>[78, 66]</td>\n",
       "      <td>NaN</td>\n",
       "      <td>Ottawa_VANcouvER</td>\n",
       "    </tr>\n",
       "    <tr>\n",
       "      <th>4</th>\n",
       "      <td>\"\"\".\\.Lufthansa.\\.\"\"\"</td>\n",
       "      <td>[12, 33]</td>\n",
       "      <td>20055.0</td>\n",
       "      <td>london_MONTreal</td>\n",
       "    </tr>\n",
       "  </tbody>\n",
       "</table>\n",
       "</div>"
      ],
      "text/plain": [
       "            Airline Code    DelayTimes FlightCodes           To_From\n",
       "0         Air Canada (!)      [21, 40]     20015.0  WAterLoo_NEWYork\n",
       "1      <Air France> (12)            []         NaN  Montreal_TORONTO\n",
       "2     (Porter Airways. )  [60, 22, 87]     20035.0    CALgary_Ottawa\n",
       "3         12. Air France      [78, 66]         NaN  Ottawa_VANcouvER\n",
       "4  \"\"\".\\.Lufthansa.\\.\"\"\"      [12, 33]     20055.0   london_MONTreal"
      ]
     },
     "execution_count": 70,
     "metadata": {},
     "output_type": "execute_result"
    }
   ],
   "source": [
    "# Now that we have our list of lists we should be able to create our data-frame \n",
    "\n",
    "df = pd.DataFrame(cells, columns=column_names)\n",
    "df.head()\n",
    "        "
   ]
  },
  {
   "cell_type": "markdown",
   "id": "222d6b02",
   "metadata": {},
   "source": [
    "### 2 - Populating Flight Codes and Changing column type to int"
   ]
  },
  {
   "cell_type": "code",
   "execution_count": 73,
   "id": "590e38f2",
   "metadata": {},
   "outputs": [
    {
     "name": "stdout",
     "output_type": "stream",
     "text": [
      "20015\n"
     ]
    },
    {
     "data": {
      "text/html": [
       "<div>\n",
       "<style scoped>\n",
       "    .dataframe tbody tr th:only-of-type {\n",
       "        vertical-align: middle;\n",
       "    }\n",
       "\n",
       "    .dataframe tbody tr th {\n",
       "        vertical-align: top;\n",
       "    }\n",
       "\n",
       "    .dataframe thead th {\n",
       "        text-align: right;\n",
       "    }\n",
       "</style>\n",
       "<table border=\"1\" class=\"dataframe\">\n",
       "  <thead>\n",
       "    <tr style=\"text-align: right;\">\n",
       "      <th></th>\n",
       "      <th>Airline Code</th>\n",
       "      <th>DelayTimes</th>\n",
       "      <th>FlightCodes</th>\n",
       "      <th>To_From</th>\n",
       "    </tr>\n",
       "  </thead>\n",
       "  <tbody>\n",
       "    <tr>\n",
       "      <th>0</th>\n",
       "      <td>Air Canada (!)</td>\n",
       "      <td>[21, 40]</td>\n",
       "      <td>20015</td>\n",
       "      <td>WAterLoo_NEWYork</td>\n",
       "    </tr>\n",
       "    <tr>\n",
       "      <th>1</th>\n",
       "      <td>&lt;Air France&gt; (12)</td>\n",
       "      <td>[]</td>\n",
       "      <td>20025</td>\n",
       "      <td>Montreal_TORONTO</td>\n",
       "    </tr>\n",
       "    <tr>\n",
       "      <th>2</th>\n",
       "      <td>(Porter Airways. )</td>\n",
       "      <td>[60, 22, 87]</td>\n",
       "      <td>20035</td>\n",
       "      <td>CALgary_Ottawa</td>\n",
       "    </tr>\n",
       "    <tr>\n",
       "      <th>3</th>\n",
       "      <td>12. Air France</td>\n",
       "      <td>[78, 66]</td>\n",
       "      <td>20045</td>\n",
       "      <td>Ottawa_VANcouvER</td>\n",
       "    </tr>\n",
       "    <tr>\n",
       "      <th>4</th>\n",
       "      <td>\"\"\".\\.Lufthansa.\\.\"\"\"</td>\n",
       "      <td>[12, 33]</td>\n",
       "      <td>20055</td>\n",
       "      <td>london_MONTreal</td>\n",
       "    </tr>\n",
       "  </tbody>\n",
       "</table>\n",
       "</div>"
      ],
      "text/plain": [
       "            Airline Code    DelayTimes FlightCodes           To_From\n",
       "0         Air Canada (!)      [21, 40]       20015  WAterLoo_NEWYork\n",
       "1      <Air France> (12)            []       20025  Montreal_TORONTO\n",
       "2     (Porter Airways. )  [60, 22, 87]       20035    CALgary_Ottawa\n",
       "3         12. Air France      [78, 66]       20045  Ottawa_VANcouvER\n",
       "4  \"\"\".\\.Lufthansa.\\.\"\"\"      [12, 33]       20055   london_MONTreal"
      ]
     },
     "execution_count": 73,
     "metadata": {},
     "output_type": "execute_result"
    }
   ],
   "source": [
    "#First let's get the value of the first row of FlightCodes\n",
    "flight_code = df.iloc[0][\"FlightCodes\"]\n",
    "\n",
    "\n",
    "flight_code = float(flight_code)\n",
    "flight_code = int(flight_code)\n",
    "print(flight_code)\n",
    "\n",
    "# getting the count of rows in the dataframe\n",
    "row_count = df.shape[0]\n",
    "\n",
    "# Now let's update the flight codes\n",
    "# Here we take row_count - 1 to exclude header row\n",
    "for i in range(row_count):\n",
    "    df.at[i, 'FlightCodes'] = flight_code\n",
    "    flight_code += 10\n",
    "\n",
    "df.head()"
   ]
  },
  {
   "cell_type": "code",
   "execution_count": 76,
   "id": "39e4d52c",
   "metadata": {},
   "outputs": [
    {
     "name": "stdout",
     "output_type": "stream",
     "text": [
      "Airline Code    object\n",
      "DelayTimes      object\n",
      "FlightCodes      int32\n",
      "To_From         object\n",
      "dtype: object\n"
     ]
    }
   ],
   "source": [
    "# Now let's change the FlightCodes column to int\n",
    "df.FlightCodes = df[\"FlightCodes\"].astype(int)\n",
    "\n",
    "print(df.dtypes)"
   ]
  },
  {
   "cell_type": "markdown",
   "id": "172c00d8",
   "metadata": {},
   "source": [
    "Now that we have succesfully converted and populated the FlightCodes column, we can move on to splitting the To_From column :)"
   ]
  },
  {
   "cell_type": "markdown",
   "id": "20c28c7b",
   "metadata": {},
   "source": [
    "### 3 - Splitting the To_From Column"
   ]
  },
  {
   "cell_type": "code",
   "execution_count": 80,
   "id": "70df300a",
   "metadata": {},
   "outputs": [
    {
     "data": {
      "text/html": [
       "<div>\n",
       "<style scoped>\n",
       "    .dataframe tbody tr th:only-of-type {\n",
       "        vertical-align: middle;\n",
       "    }\n",
       "\n",
       "    .dataframe tbody tr th {\n",
       "        vertical-align: top;\n",
       "    }\n",
       "\n",
       "    .dataframe thead th {\n",
       "        text-align: right;\n",
       "    }\n",
       "</style>\n",
       "<table border=\"1\" class=\"dataframe\">\n",
       "  <thead>\n",
       "    <tr style=\"text-align: right;\">\n",
       "      <th></th>\n",
       "      <th>Airline Code</th>\n",
       "      <th>DelayTimes</th>\n",
       "      <th>FlightCodes</th>\n",
       "      <th>To</th>\n",
       "      <th>From</th>\n",
       "    </tr>\n",
       "  </thead>\n",
       "  <tbody>\n",
       "    <tr>\n",
       "      <th>0</th>\n",
       "      <td>Air Canada (!)</td>\n",
       "      <td>[21, 40]</td>\n",
       "      <td>20015</td>\n",
       "      <td>WAterLoo</td>\n",
       "      <td>NEWYork</td>\n",
       "    </tr>\n",
       "    <tr>\n",
       "      <th>1</th>\n",
       "      <td>&lt;Air France&gt; (12)</td>\n",
       "      <td>[]</td>\n",
       "      <td>20025</td>\n",
       "      <td>Montreal</td>\n",
       "      <td>TORONTO</td>\n",
       "    </tr>\n",
       "    <tr>\n",
       "      <th>2</th>\n",
       "      <td>(Porter Airways. )</td>\n",
       "      <td>[60, 22, 87]</td>\n",
       "      <td>20035</td>\n",
       "      <td>CALgary</td>\n",
       "      <td>Ottawa</td>\n",
       "    </tr>\n",
       "    <tr>\n",
       "      <th>3</th>\n",
       "      <td>12. Air France</td>\n",
       "      <td>[78, 66]</td>\n",
       "      <td>20045</td>\n",
       "      <td>Ottawa</td>\n",
       "      <td>VANcouvER</td>\n",
       "    </tr>\n",
       "    <tr>\n",
       "      <th>4</th>\n",
       "      <td>\"\"\".\\.Lufthansa.\\.\"\"\"</td>\n",
       "      <td>[12, 33]</td>\n",
       "      <td>20055</td>\n",
       "      <td>london</td>\n",
       "      <td>MONTreal</td>\n",
       "    </tr>\n",
       "  </tbody>\n",
       "</table>\n",
       "</div>"
      ],
      "text/plain": [
       "            Airline Code    DelayTimes  FlightCodes        To       From\n",
       "0         Air Canada (!)      [21, 40]        20015  WAterLoo    NEWYork\n",
       "1      <Air France> (12)            []        20025  Montreal    TORONTO\n",
       "2     (Porter Airways. )  [60, 22, 87]        20035   CALgary     Ottawa\n",
       "3         12. Air France      [78, 66]        20045    Ottawa  VANcouvER\n",
       "4  \"\"\".\\.Lufthansa.\\.\"\"\"      [12, 33]        20055    london   MONTreal"
      ]
     },
     "execution_count": 80,
     "metadata": {},
     "output_type": "execute_result"
    }
   ],
   "source": [
    "# Let's start by first splitting the To_From column\n",
    "df[['To', 'From']] = df.To_From.str.split(\"_\", expand = True)\n",
    "df = df.drop('To_From', axis=1)\n",
    "df.head()"
   ]
  },
  {
   "cell_type": "code",
   "execution_count": 83,
   "id": "e4ad1dce",
   "metadata": {},
   "outputs": [
    {
     "data": {
      "text/html": [
       "<div>\n",
       "<style scoped>\n",
       "    .dataframe tbody tr th:only-of-type {\n",
       "        vertical-align: middle;\n",
       "    }\n",
       "\n",
       "    .dataframe tbody tr th {\n",
       "        vertical-align: top;\n",
       "    }\n",
       "\n",
       "    .dataframe thead th {\n",
       "        text-align: right;\n",
       "    }\n",
       "</style>\n",
       "<table border=\"1\" class=\"dataframe\">\n",
       "  <thead>\n",
       "    <tr style=\"text-align: right;\">\n",
       "      <th></th>\n",
       "      <th>Airline Code</th>\n",
       "      <th>DelayTimes</th>\n",
       "      <th>FlightCodes</th>\n",
       "      <th>To</th>\n",
       "      <th>From</th>\n",
       "    </tr>\n",
       "  </thead>\n",
       "  <tbody>\n",
       "    <tr>\n",
       "      <th>0</th>\n",
       "      <td>Air Canada (!)</td>\n",
       "      <td>[21, 40]</td>\n",
       "      <td>20015</td>\n",
       "      <td>WATERLOO</td>\n",
       "      <td>NEWYORK</td>\n",
       "    </tr>\n",
       "    <tr>\n",
       "      <th>1</th>\n",
       "      <td>&lt;Air France&gt; (12)</td>\n",
       "      <td>[]</td>\n",
       "      <td>20025</td>\n",
       "      <td>MONTREAL</td>\n",
       "      <td>TORONTO</td>\n",
       "    </tr>\n",
       "    <tr>\n",
       "      <th>2</th>\n",
       "      <td>(Porter Airways. )</td>\n",
       "      <td>[60, 22, 87]</td>\n",
       "      <td>20035</td>\n",
       "      <td>CALGARY</td>\n",
       "      <td>OTTAWA</td>\n",
       "    </tr>\n",
       "    <tr>\n",
       "      <th>3</th>\n",
       "      <td>12. Air France</td>\n",
       "      <td>[78, 66]</td>\n",
       "      <td>20045</td>\n",
       "      <td>OTTAWA</td>\n",
       "      <td>VANCOUVER</td>\n",
       "    </tr>\n",
       "    <tr>\n",
       "      <th>4</th>\n",
       "      <td>\"\"\".\\.Lufthansa.\\.\"\"\"</td>\n",
       "      <td>[12, 33]</td>\n",
       "      <td>20055</td>\n",
       "      <td>LONDON</td>\n",
       "      <td>MONTREAL</td>\n",
       "    </tr>\n",
       "  </tbody>\n",
       "</table>\n",
       "</div>"
      ],
      "text/plain": [
       "            Airline Code    DelayTimes  FlightCodes        To       From\n",
       "0         Air Canada (!)      [21, 40]        20015  WATERLOO    NEWYORK\n",
       "1      <Air France> (12)            []        20025  MONTREAL    TORONTO\n",
       "2     (Porter Airways. )  [60, 22, 87]        20035   CALGARY     OTTAWA\n",
       "3         12. Air France      [78, 66]        20045    OTTAWA  VANCOUVER\n",
       "4  \"\"\".\\.Lufthansa.\\.\"\"\"      [12, 33]        20055    LONDON   MONTREAL"
      ]
     },
     "execution_count": 83,
     "metadata": {},
     "output_type": "execute_result"
    }
   ],
   "source": [
    "# Now, let's convert both the To and From columns to uppercase\n",
    "df['To'] = df['To'].apply(str.upper)\n",
    "df['From'] = df['From'].apply(str.upper)\n",
    "df.head()"
   ]
  },
  {
   "cell_type": "markdown",
   "id": "63ef613b",
   "metadata": {},
   "source": [
    "### 4 - Cleaning Airline Code column"
   ]
  },
  {
   "cell_type": "code",
   "execution_count": 94,
   "id": "73f728f2",
   "metadata": {},
   "outputs": [
    {
     "data": {
      "text/html": [
       "<div>\n",
       "<style scoped>\n",
       "    .dataframe tbody tr th:only-of-type {\n",
       "        vertical-align: middle;\n",
       "    }\n",
       "\n",
       "    .dataframe tbody tr th {\n",
       "        vertical-align: top;\n",
       "    }\n",
       "\n",
       "    .dataframe thead th {\n",
       "        text-align: right;\n",
       "    }\n",
       "</style>\n",
       "<table border=\"1\" class=\"dataframe\">\n",
       "  <thead>\n",
       "    <tr style=\"text-align: right;\">\n",
       "      <th></th>\n",
       "      <th>Airline Code</th>\n",
       "      <th>DelayTimes</th>\n",
       "      <th>FlightCodes</th>\n",
       "      <th>To</th>\n",
       "      <th>From</th>\n",
       "    </tr>\n",
       "  </thead>\n",
       "  <tbody>\n",
       "    <tr>\n",
       "      <th>0</th>\n",
       "      <td>Air Canada</td>\n",
       "      <td>[21, 40]</td>\n",
       "      <td>20015</td>\n",
       "      <td>WATERLOO</td>\n",
       "      <td>NEWYORK</td>\n",
       "    </tr>\n",
       "    <tr>\n",
       "      <th>1</th>\n",
       "      <td>Air France 12</td>\n",
       "      <td>[]</td>\n",
       "      <td>20025</td>\n",
       "      <td>MONTREAL</td>\n",
       "      <td>TORONTO</td>\n",
       "    </tr>\n",
       "    <tr>\n",
       "      <th>2</th>\n",
       "      <td>Porter Airways</td>\n",
       "      <td>[60, 22, 87]</td>\n",
       "      <td>20035</td>\n",
       "      <td>CALGARY</td>\n",
       "      <td>OTTAWA</td>\n",
       "    </tr>\n",
       "    <tr>\n",
       "      <th>3</th>\n",
       "      <td>12 Air France</td>\n",
       "      <td>[78, 66]</td>\n",
       "      <td>20045</td>\n",
       "      <td>OTTAWA</td>\n",
       "      <td>VANCOUVER</td>\n",
       "    </tr>\n",
       "    <tr>\n",
       "      <th>4</th>\n",
       "      <td>Lufthansa</td>\n",
       "      <td>[12, 33]</td>\n",
       "      <td>20055</td>\n",
       "      <td>LONDON</td>\n",
       "      <td>MONTREAL</td>\n",
       "    </tr>\n",
       "  </tbody>\n",
       "</table>\n",
       "</div>"
      ],
      "text/plain": [
       "      Airline Code    DelayTimes  FlightCodes        To       From\n",
       "0      Air Canada       [21, 40]        20015  WATERLOO    NEWYORK\n",
       "1    Air France 12            []        20025  MONTREAL    TORONTO\n",
       "2  Porter Airways   [60, 22, 87]        20035   CALGARY     OTTAWA\n",
       "3    12 Air France      [78, 66]        20045    OTTAWA  VANCOUVER\n",
       "4        Lufthansa      [12, 33]        20055    LONDON   MONTREAL"
      ]
     },
     "execution_count": 94,
     "metadata": {},
     "output_type": "execute_result"
    }
   ],
   "source": [
    "# Let's clean the Airline Code column by removing all punctuations\n",
    "import string\n",
    "df['Airline Code'] = df['Airline Code'].str.replace('[{}]'.format(string.punctuation), '', regex=True)\n",
    "df['Airline Code'] = df['Airline Code'].str.replace('\\\\', '', regex=True)\n",
    "df.head()\n"
   ]
  },
  {
   "cell_type": "markdown",
   "id": "6576ae88",
   "metadata": {},
   "source": [
    "## Notes and Optimizations"
   ]
  },
  {
   "cell_type": "markdown",
   "id": "d1289b9e",
   "metadata": {},
   "source": [
    "Thank you for reading through my solution! I had a great time solving the assessment :)\n",
    "\n",
    "Some things I would do if I had to **optimize** my solution:\n",
    "- Try and use more **vectorized** functions instead of iterating through a dataframe\n",
    "- Use **PySpark** instead of Pandas as it is significantly quicker\n",
    "\n",
    "Hope you have a great day!"
   ]
  },
  {
   "cell_type": "code",
   "execution_count": null,
   "id": "4361f237",
   "metadata": {},
   "outputs": [],
   "source": []
  }
 ],
 "metadata": {
  "kernelspec": {
   "display_name": "Python 3 (ipykernel)",
   "language": "python",
   "name": "python3"
  },
  "language_info": {
   "codemirror_mode": {
    "name": "ipython",
    "version": 3
   },
   "file_extension": ".py",
   "mimetype": "text/x-python",
   "name": "python",
   "nbconvert_exporter": "python",
   "pygments_lexer": "ipython3",
   "version": "3.8.10"
  }
 },
 "nbformat": 4,
 "nbformat_minor": 5
}
